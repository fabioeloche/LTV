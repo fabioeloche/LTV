{
  "cells": [
    {
      "cell_type": "markdown",
      "metadata": {},
      "source": [
        "# Churn Prediction Model - IMPROVED VERSION\n",
        "**Goal**: Achieve ≥80% recall on churn class\n",
        "\n",
        "## Improvements:\n",
        "- SMOTE oversampling for class imbalance\n",
        "- Class weights in XGBoost\n",
        "- Feature engineering (interactions, binning)\n",
        "- Extended hyperparameter tuning\n",
        "- Threshold optimization\n"
      ]
    },
    {
      "cell_type": "code",
      "execution_count": null,
      "metadata": {},
      "outputs": [],
      "source": [
        "import pandas as pd\n",
        "import numpy as np\n",
        "import matplotlib.pyplot as plt\n",
        "import seaborn as sns\n",
        "from sklearn.model_selection import train_test_split, GridSearchCV\n",
        "from sklearn.preprocessing import LabelEncoder\n",
        "from xgboost import XGBClassifier\n",
        "from sklearn.metrics import (\n",
        "    classification_report, confusion_matrix, \n",
        "    recall_score, precision_score, roc_curve, auc, accuracy_score, f1_score, roc_auc_score\n",
        ")\n",
        "from imblearn.over_sampling import SMOTE\n",
        "import joblib\n",
        "import shap\n",
        "\n",
        "import sys\n",
        "sys.path.append('..')\n"
      ]
    },
    {
      "cell_type": "markdown",
      "metadata": {},
      "source": [
        "## 1. Load and Clean Data\n"
      ]
    },
    {
      "cell_type": "code",
      "execution_count": null,
      "metadata": {},
      "outputs": [],
      "source": [
        "df = pd.read_csv('../data/WA_Fn-UseC_-Telco-Customer-Churn.csv')\n",
        "df['TotalCharges'] = pd.to_numeric(df['TotalCharges'], errors='coerce')\n",
        "df = df.dropna(subset=['TotalCharges'])\n",
        "print(f\"Dataset shape: {df.shape}\")\n",
        "print(f\"Churn rate: {(df['Churn'] == 'Yes').mean():.2%}\")\n"
      ]
    },
    {
      "cell_type": "markdown",
      "metadata": {},
      "source": [
        "## 2. Feature Engineering (NEW!)\n"
      ]
    },
    {
      "cell_type": "code",
      "execution_count": null,
      "metadata": {},
      "outputs": [],
      "source": [
        "# Create new features\n",
        "df_fe = df.copy()\n",
        "\n",
        "# 1. Tenure bins\n",
        "df_fe['tenure_group'] = pd.cut(df_fe['tenure'], bins=[0, 12, 24, 48, 100], \n",
        "                                labels=['0-12', '12-24', '24-48', '48+'])\n",
        "\n",
        "# 2. Monthly charge bins\n",
        "df_fe['charge_group'] = pd.cut(df_fe['MonthlyCharges'], bins=[0, 35, 70, 150], \n",
        "                                labels=['Low', 'Medium', 'High'])\n",
        "\n",
        "# 3. Total services count\n",
        "service_cols = ['OnlineSecurity', 'OnlineBackup', 'DeviceProtection', \n",
        "                'TechSupport', 'StreamingTV', 'StreamingMovies']\n",
        "df_fe['num_services'] = df_fe[service_cols].apply(\n",
        "    lambda x: (x == 'Yes').sum(), axis=1\n",
        ")\n",
        "\n",
        "# 4. Has phone + internet\n",
        "df_fe['phone_and_internet'] = ((df_fe['PhoneService'] == 'Yes') & \n",
        "                               (df_fe['InternetService'] != 'No')).astype(int)\n",
        "\n",
        "# 5. Charge per service\n",
        "df_fe['charge_per_service'] = df_fe['MonthlyCharges'] / (df_fe['num_services'] + 1)\n",
        "\n",
        "# 6. Senior with dependents\n",
        "df_fe['senior_with_dependents'] = ((df_fe['SeniorCitizen'] == 1) & \n",
        "                                    (df_fe['Dependents'] == 'Yes')).astype(int)\n",
        "\n",
        "print(f\"New features created!\")\n",
        "print(f\"\\\\nNum services distribution:\")\n",
        "print(df_fe['num_services'].value_counts().sort_index())\n"
      ]
    }
  ],
  "metadata": {
    "language_info": {
      "name": "python"
    }
  },
  "nbformat": 4,
  "nbformat_minor": 2
}
